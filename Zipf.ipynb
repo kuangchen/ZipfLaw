{
 "metadata": {
  "name": "",
  "signature": "sha256:c9bc86961e8c97edcbb19731f8e52e484fdbc6c495c00c7b0114ad9bb859cfc1"
 },
 "nbformat": 3,
 "nbformat_minor": 0,
 "worksheets": [
  {
   "cells": [
    {
     "cell_type": "markdown",
     "metadata": {},
     "source": [
      "# Zipf's law for city population: Webscraping and Monte Carlo simulation\n",
      "Kuang Chen May, 2014\n",
      "\n",
      "## Table of Contents\n",
      "1. [What's Zipf's law for city?](#sec1)\n",
      "2. [Verifying Zipf's law with US Census data](#sec2)\n",
      "3. [Gibrat's random growth model and log-normal distribution](#sec3)\n",
      "4. [Monte Carlo Simulation](#sec4)\n",
      "5. [References](#sec5)"
     ]
    },
    {
     "cell_type": "markdown",
     "metadata": {},
     "source": [
      "<a id='sec1'></a>\n",
      "## What is Zipf's law for city?\n",
      "\n",
      "Let's rank all the cities in the U.S. by their population. The 1st ranked (i.e. most populated) city, New York, with a 2012 population of 8,336,697, has roughly twice that of the 2nd ranked city (Los Angeles), and triple that of 3rd (Chicago), and so on. This empirical rank-size rule, named after the famous American linguist [G. K. Zipf](http://en.wikipedia.org/wiki/George_Kingsley_Zipf), can be stated more concisely as a regression relation,\n",
      "\n",
      "<center>$\\ln r_i = K + a \\ln p_i$</center>\n",
      "\n",
      "where $p_i$ is the population of $i^{\\mathrm{th}}$ city, $r_i$ is the rank (equal to 1 for most populated city). Zipf's law for city population says $a$ should be equal to $-1$. As data scientists, we are instinctly curious about *anything statistical*. So why not grab the data, and verify this law by ourselves?"
     ]
    },
    {
     "cell_type": "markdown",
     "metadata": {},
     "source": [
      "<a id='sec2'></a>\n",
      "## Verifying Zipf's law with US Census data\n",
      "As the first step, we download and parse the \"Incorporated Places and Minor Civil Divisions Datasets: Subcounty Resident Population Estimates: April 1, 2010 to July 1, 2012\" from [US Census Bureau](#census_data), which contains the population data for all cities:"
     ]
    },
    {
     "cell_type": "code",
     "collapsed": false,
     "input": [
      "import urllib\n",
      "import pandas as pd\n",
      "\n",
      "src_url = \"http://www.census.gov/popest/data/cities/totals/2012/files/SUB-EST2012.csv\"\n",
      "dest_fname = \"population_2012.csv\"\n",
      "urllib.request.urlretrieve(src_url, dest_fname)\n",
      "data = pd.read_csv(dest_fname, encoding = \"ISO-8859-1\")"
     ],
     "language": "python",
     "metadata": {},
     "outputs": [],
     "prompt_number": 1
    },
    {
     "cell_type": "code",
     "collapsed": false,
     "input": [
      "data.head()"
     ],
     "language": "python",
     "metadata": {},
     "outputs": [
      {
       "html": [
        "<div style=\"max-height:1000px;max-width:1500px;overflow:auto;\">\n",
        "<table border=\"1\" class=\"dataframe\">\n",
        "  <thead>\n",
        "    <tr style=\"text-align: right;\">\n",
        "      <th></th>\n",
        "      <th>SUMLEV</th>\n",
        "      <th>STATE</th>\n",
        "      <th>COUNTY</th>\n",
        "      <th>PLACE</th>\n",
        "      <th>COUSUB</th>\n",
        "      <th>CONCIT</th>\n",
        "      <th>NAME</th>\n",
        "      <th>STNAME</th>\n",
        "      <th>CENSUS2010POP</th>\n",
        "      <th>ESTIMATESBASE2010</th>\n",
        "      <th>POPESTIMATE2010</th>\n",
        "      <th>POPESTIMATE2011</th>\n",
        "      <th>POPESTIMATE2012</th>\n",
        "    </tr>\n",
        "  </thead>\n",
        "  <tbody>\n",
        "    <tr>\n",
        "      <th>0</th>\n",
        "      <td>  40</td>\n",
        "      <td> 1</td>\n",
        "      <td> 0</td>\n",
        "      <td>   0</td>\n",
        "      <td> 0</td>\n",
        "      <td> 0</td>\n",
        "      <td>         Alabama</td>\n",
        "      <td> Alabama</td>\n",
        "      <td> 4779736</td>\n",
        "      <td> 4779745</td>\n",
        "      <td> 4784762</td>\n",
        "      <td> 4803689</td>\n",
        "      <td> 4822023</td>\n",
        "    </tr>\n",
        "    <tr>\n",
        "      <th>1</th>\n",
        "      <td> 162</td>\n",
        "      <td> 1</td>\n",
        "      <td> 0</td>\n",
        "      <td> 124</td>\n",
        "      <td> 0</td>\n",
        "      <td> 0</td>\n",
        "      <td>  Abbeville city</td>\n",
        "      <td> Alabama</td>\n",
        "      <td>    2688</td>\n",
        "      <td>    2688</td>\n",
        "      <td>    2682</td>\n",
        "      <td>    2688</td>\n",
        "      <td>    2654</td>\n",
        "    </tr>\n",
        "    <tr>\n",
        "      <th>2</th>\n",
        "      <td> 162</td>\n",
        "      <td> 1</td>\n",
        "      <td> 0</td>\n",
        "      <td> 460</td>\n",
        "      <td> 0</td>\n",
        "      <td> 0</td>\n",
        "      <td> Adamsville city</td>\n",
        "      <td> Alabama</td>\n",
        "      <td>    4522</td>\n",
        "      <td>    4522</td>\n",
        "      <td>    4518</td>\n",
        "      <td>    4504</td>\n",
        "      <td>    4490</td>\n",
        "    </tr>\n",
        "    <tr>\n",
        "      <th>3</th>\n",
        "      <td> 162</td>\n",
        "      <td> 1</td>\n",
        "      <td> 0</td>\n",
        "      <td> 484</td>\n",
        "      <td> 0</td>\n",
        "      <td> 0</td>\n",
        "      <td>    Addison town</td>\n",
        "      <td> Alabama</td>\n",
        "      <td>     758</td>\n",
        "      <td>     756</td>\n",
        "      <td>     753</td>\n",
        "      <td>     751</td>\n",
        "      <td>     746</td>\n",
        "    </tr>\n",
        "    <tr>\n",
        "      <th>4</th>\n",
        "      <td> 162</td>\n",
        "      <td> 1</td>\n",
        "      <td> 0</td>\n",
        "      <td> 676</td>\n",
        "      <td> 0</td>\n",
        "      <td> 0</td>\n",
        "      <td>      Akron town</td>\n",
        "      <td> Alabama</td>\n",
        "      <td>     356</td>\n",
        "      <td>     356</td>\n",
        "      <td>     355</td>\n",
        "      <td>     345</td>\n",
        "      <td>     344</td>\n",
        "    </tr>\n",
        "  </tbody>\n",
        "</table>\n",
        "</div>"
       ],
       "metadata": {},
       "output_type": "pyout",
       "prompt_number": 2,
       "text": [
        "   SUMLEV  STATE  COUNTY  PLACE  COUSUB  CONCIT             NAME   STNAME  \\\n",
        "0      40      1       0      0       0       0          Alabama  Alabama   \n",
        "1     162      1       0    124       0       0   Abbeville city  Alabama   \n",
        "2     162      1       0    460       0       0  Adamsville city  Alabama   \n",
        "3     162      1       0    484       0       0     Addison town  Alabama   \n",
        "4     162      1       0    676       0       0       Akron town  Alabama   \n",
        "\n",
        "  CENSUS2010POP  ESTIMATESBASE2010  POPESTIMATE2010  POPESTIMATE2011  \\\n",
        "0       4779736            4779745          4784762          4803689   \n",
        "1          2688               2688             2682             2688   \n",
        "2          4522               4522             4518             4504   \n",
        "3           758                756              753              751   \n",
        "4           356                356              355              345   \n",
        "\n",
        "   POPESTIMATE2012  \n",
        "0          4822023  \n",
        "1             2654  \n",
        "2             4490  \n",
        "3              746  \n",
        "4              344  "
       ]
      }
     ],
     "prompt_number": 2
    },
    {
     "cell_type": "markdown",
     "metadata": {},
     "source": [
      "From the NAME columns, we immediately notice this table contains not just city, but also state, county and town data. Let's only keep the rows that are city data."
     ]
    },
    {
     "cell_type": "code",
     "collapsed": false,
     "input": [
      "city_data = data[data[\"NAME\"].str.endswith(\"city\")]"
     ],
     "language": "python",
     "metadata": {},
     "outputs": [],
     "prompt_number": 3
    },
    {
     "cell_type": "markdown",
     "metadata": {},
     "source": [
      "We select the last column (population estimation of year 2012), sort it from high to low, and assign the rank. Then it is straightforward to plot $\\ln r_i$ vs $\\ln p_i$:"
     ]
    },
    {
     "cell_type": "code",
     "collapsed": false,
     "input": [
      "p = city_data[\"POPESTIMATE2012\"].astype(int).order(ascending=False)\n",
      "ln_p = log(p.values)\n",
      "ln_r = log(arange(1, p.shape[0]+1))\n",
      "\n",
      "fig, ax = subplots(1, 1)\n",
      "ax.set(xlabel='$\\ln p$', ylabel='$\\ln r$', title=\"Population vs Rank for all U.S. cities\\n(source from 2012 census data)\")\n",
      "ax.plot(ln_p, ln_r, \"b+\", markersize=5,  markeredgecolor='b')\n",
      "ax.grid()"
     ],
     "language": "python",
     "metadata": {},
     "outputs": [
      {
       "metadata": {},
       "output_type": "display_data",
       "png": "[encoded data removed]",
       "text": [
        "<matplotlib.figure.Figure at 0x7fab2df56ef0>"
       ]
      }
     ],
     "prompt_number": 8
    },
    {
     "cell_type": "markdown",
     "metadata": {},
     "source": [
      "Does Zipf's law hold? We notice two things:\n",
      "* $r$ flattens out for cities with small population. Apparantly means Zipf's law breaks down there.\n",
      "* However, the upper tail where $\\ln p > 10$, does look like promising for a good linear fit. \n",
      "\n",
      "So let's make a cutoff, and carry out a simple ordinary linear regression for the tail:"
     ]
    },
    {
     "cell_type": "code",
     "collapsed": false,
     "input": [
      "# import statsmodel for regression analysis\n",
      "import statsmodels.api as sm_api\n",
      "import statsmodels.formula.api as smf_api\n",
      "\n",
      "# Select the data where ln_p > 10\n",
      "selection = ln_p > 10\n",
      "ln_p_tail, ln_r_tail = ln_p[selection], ln_r[selection]\n",
      "\n",
      "# Intercept needs to be added manually\n",
      "# See http://statsmodels.sourceforge.net/devel/generated/statsmodels.regression.linear_model.OLS.html\n",
      "ln_p_tail_with_const = sm_api.add_constant(ln_p_tail)\n",
      "\n",
      "model = smf_api.OLS(ln_r_tail, ln_p_tail_with_const)\n",
      "fit = model.fit()\n",
      "print(fit.summary())"
     ],
     "language": "python",
     "metadata": {},
     "outputs": [
      {
       "output_type": "stream",
       "stream": "stdout",
       "text": [
        "                            OLS Regression Results                            \n",
        "==============================================================================\n",
        "Dep. Variable:                      y   R-squared:                       0.988\n",
        "Model:                            OLS   Adj. R-squared:                  0.988\n",
        "Method:                 Least Squares   F-statistic:                 2.892e+05\n",
        "Date:                Tue, 15 Jul 2014   Prob (F-statistic):               0.00\n",
        "Time:                        20:51:21   Log-Likelihood:                 2793.4\n",
        "No. Observations:                3474   AIC:                            -5583.\n",
        "Df Residuals:                    3472   BIC:                            -5571.\n",
        "Df Model:                           1                                         \n",
        "==============================================================================\n",
        "                 coef    std err          t      P>|t|      [95.0% Conf. Int.]\n",
        "------------------------------------------------------------------------------\n",
        "const         21.4555      0.027    804.927      0.000        21.403    21.508\n",
        "x1            -1.3121      0.002   -537.798      0.000        -1.317    -1.307\n",
        "==============================================================================\n",
        "Omnibus:                     1006.589   Durbin-Watson:                   0.016\n",
        "Prob(Omnibus):                  0.000   Jarque-Bera (JB):             4992.326\n",
        "Skew:                          -1.301   Prob(JB):                         0.00\n",
        "Kurtosis:                       8.264   Cond. No.                         160.\n",
        "==============================================================================\n"
       ]
      }
     ],
     "prompt_number": 9
    },
    {
     "cell_type": "markdown",
     "metadata": {},
     "source": [
      "Zipf's result, namely $a=-1$, is __rejected__ because it doesn't fit into the 95% confidence interval $[-1.279, -1.271]$. In the figure below, the data and fit are plot together."
     ]
    },
    {
     "cell_type": "code",
     "collapsed": false,
     "input": [
      "fig, ax = subplots(1, 1)\n",
      "ax.plot(ln_p_tail, ln_r_tail, \"ro\", markersize=5,  markeredgecolor='r')\n",
      "ax.plot(ln_p_tail, fit.fittedvalues, \"b-\", label=r\"$\\ln r = 21.1483 - 1.2748 \\ln p$\")\n",
      "ax.set(xlabel=r\"$\\ln p$\", ylabel=r\"$\\ln r$\", title=r\"Regression of $\\ln r$ on $\\ln p$ for $\\ln p>10$\")\n",
      "ax.legend()\n",
      "ax.grid()"
     ],
     "language": "python",
     "metadata": {},
     "outputs": [
      {
       "metadata": {},
       "output_type": "display_data",
       "png": "[encoded data removed]",
       "text": [
        "<matplotlib.figure.Figure at 0x7fab25ca1668>"
       ]
      }
     ],
     "prompt_number": 11
    },
    {
     "cell_type": "markdown",
     "metadata": {},
     "source": [
      "<a id='sec3'></a>\n",
      "## Gibrat's random growth model and log-normal distribution\n",
      "This apparent contradiction is explained by J. Eeckhout in his [work](#Eeckhout) published in 2004. Eeckhout found that Zipf's law, namely $a=1$ is a coincidence. In fact, the value of $a$ from regression of $\\ln r$ on $\\ln p$ depends on where the low population cutoff is made (we throw away $\\ln p < 10$). Further, the rank-size relation is better described by log-normal distribution as compared to the Pareto distribution, which is shown:"
     ]
    },
    {
     "cell_type": "code",
     "collapsed": false,
     "input": [
      "import scipy.stats as stats\n",
      "# select valid population (population > 10)\n",
      "valid_p = p[p>10].values\n",
      "log_p = log(valid_p)\n",
      "\n",
      "fig, ax = subplots(1, 1)\n",
      "mybins = arange(0, 16, 0.25)\n",
      "count, bin_edge, _ = hist(log_p, bins=mybins, normed=1)\n",
      "bin_center = (bin_edge[:-1] + bin_edge[1:])/2\n",
      "loc, scale = stats.norm.fit(log_p)\n",
      "ax.plot(bin_center, stats.norm.pdf(bin_center, loc=loc, scale=scale), \"r-\", label=\"Normal\")\n",
      "\n",
      "# Note Pareto is 'one-sided'. To make a fair comparison, we only fit Pareto\n",
      "# to lnp > 8, and normalize accordingly\n",
      "pp = p[log_p > 8]\n",
      "b, loc, scale = stats.pareto.fit(pp)\n",
      "ax.plot(bin_center, stats.pareto.pdf(exp(bin_center), loc=loc, scale=scale, b=b)*exp(bin_center) * pp.shape[0]/p.shape[0], \"g-\", label=\"Pareto (for $\\ln p>8$)\")\n",
      "ax.set(xlabel=r\"$\\ln p$\", ylabel=r\"$\\mathrm{p.d.f.}(\\ln p)$\", xlim=(0, 16), title=(r\"p.d.f. of $\\ln p$ fit to normal and Pareto dist.\"))\n",
      "ax.legend(loc=\"upper left\")\n",
      "ax.grid()"
     ],
     "language": "python",
     "metadata": {},
     "outputs": [
      {
       "metadata": {},
       "output_type": "display_data",
       "png": "[encoded data removed]",
       "text": [
        "<matplotlib.figure.Figure at 0x7fab25988c50>"
       ]
      }
     ],
     "prompt_number": 15
    },
    {
     "cell_type": "markdown",
     "metadata": {},
     "source": [
      "The fact that $\\ln p$ is normally distributed can be explained by Gibrat's law, which postulates that over time every city grows or shrinks _proportionally_ in a stochastic manner, namely:\n",
      "\n",
      "<center>$\\dfrac{p_i(n+1)}{p_i(n)} = g_i(n)$</center>\n",
      "\n",
      "where $p(n)$ is the population of $i^{\\mathrm{th}}$ city at a discrete time step $n$ (year for instance), and $g_i(n)$ is a *stochastic* fractional growth rate. To make the minimal assumptions, $g_i(N)$ for all city $i$ and all steps $N$ are assumed to be sampled from the same distribution across all cities. \n",
      "\n",
      "We can take the logarithm of this relation, and recurse backward,\n",
      "<center>\\begin{align}\\ln p_i(n) &= \\ln g_i(n-1) + \\ln p_i(n-1) \\\\&= \\ln g_i(n-1) + \\ln g_i(n-2) + \\ln p_i(n-2)\\\\ &= \\ldots \\\\ &= \\displaystyle{\\sum_{m=0}^{n-1} \\ln g_i(m) + \\ln p_i(0)}\\end{align}</center>\n",
      "\n",
      "Under the [law of large numbers](http://en.wikipedia.org/wiki/Law_of_large_numbers), as $n \\rightarrow \\infty$, the sum approaches the normal distribution, namely $\\ln p_i(n) \\sim \\mathcal{N}(\\mu n, \\sigma^2 n)$, where $\\mu$ and $\\sigma^2$ are the mean and variance of $\\ln g$, hence the normal distribution of $\\ln p_i$."
     ]
    },
    {
     "cell_type": "markdown",
     "metadata": {},
     "source": [
      "<a id='sec4'></a>\n",
      "## Monte Carlo Simulation\n",
      "\n",
      "Gibrat's law seems to make more sense, but it would still be interesting to see if this model can recover the actual data. We can think of an experiment, where We dial the time back to 2500 years ago, when cities began to exist in human history. We assume there there were as many cities as there are today, and we initialize the citites with the same population (which is estimated based on the mean growth rate $\\langle g\\rangle$ and the population today). Each year $N$, we play god and subject each city $i$ to a random growth rate $g_i(N)$ sampled from the distribution density $P(g)$. We repeat this process over and over again, until the time reach the year of 2014. We check if the population obtained this way agrees with the actual population.\n",
      "\n",
      "To run this simulation, we can estimate $P(g)$ based on the historical population for each city. Fortunately, this data has been compiled at http://www.biggestuscities.com/top-1000. On the homepage are the top 1000 populated cities in the U.S. If the link of each city is followed, you will be directed to another webpage, where the annual population of the city since earliest 1840 is listed (see figure below).\n",
      "<table border=\"0\" >\n",
      "<tr><td><img src=\"files/website_img1.png\" style=\"width: 300px;\"/></td>\n",
      "     <td><img src=\"files/website_img2.png\" style=\"width: 300px;\"/></td>\n",
      "       <caption align=\"bottom\">Left: Top 1000 populated cities; Right: Annual population record if the name of a city (in this case New York) is clicked  </caption>\n",
      "\n",
      "</tr>\n",
      "</table> \n",
      "\n",
      "Being lazy, we automate the web scraping process using the *BeautifulSoup* module. If you are not familiar with web scraping, [Greg Reda](#Ref1) has a really good reference which inspires a big part of this tutorial. "
     ]
    },
    {
     "cell_type": "code",
     "collapsed": false,
     "input": [
      "# Import BeautifulSoup and urlopen modules\n",
      "from bs4 import BeautifulSoup\n",
      "from urllib.request import urlopen\n",
      "\n",
      "# Short hand for the url\n",
      "base_url = \"http://www.biggestuscities.com\"\n",
      "\n",
      "# Read the homepage into soup\n",
      "html = urlopen(base_url+\"/top-1000\").read()\n",
      "soup = BeautifulSoup(html, \"lxml\")"
     ],
     "language": "python",
     "metadata": {},
     "outputs": [],
     "prompt_number": 16
    },
    {
     "cell_type": "markdown",
     "metadata": {},
     "source": [
      "The *soup* object is a large chunk of raw, unparsed HTML code. We would like to extract the city name and the url which lead to the annual population webpage, like the following:\n",
      "\n",
      "\n",
      "|         | name           | url  |\n",
      "| ------------- |:-------------:| -----:|\n",
      "| 0      | New York | http://www.biggestuscities.com/city/new-york-new-york |\n",
      "| 1      | Los Angeles      |    \thttp://www.biggestuscities.com/city/los-angeles-california |\n",
      "| ...    | ...  | ... |\n",
      "                     \n",
      "How can we extract these information? One easy way is to inspect the HTML tags for the clickable city names. This can be easily done using the *Inspect Element* tool in Firefox or equivalent tool in Chrome. \n",
      "<img src=\"files/inspector.png\" style=\"width: 750px;\"/>\n",
      "\n",
      "You will see that these HTML tags all have the same structure \n",
      "    \n",
      "    <a class=\"link\" href=\"city/new-york-new-york\">\n",
      "    \n",
      "If you are not familiar with HTML, you can pick it up really quick from [Ref 4](#Ref2). So let's use soup to fetch only these special tags for us."
     ]
    },
    {
     "cell_type": "code",
     "collapsed": false,
     "input": [
      "# Valid tags are those with \"href\" attribute which begins with \"/city\"\n",
      "valid_tags = list(filter(lambda tag: tag.get('href', '').startswith(\"/city\"), soup.findAll(True)))\n",
      "\n",
      "def make_city_info(tag):\n",
      "    # city names are the word on the first line of the tag, with whitespaces stripped\n",
      "    # urls are the attribute value of href, prepended by base_url\n",
      "    return pd.Series({ 'name' : tag.string.split('\\n')[1].strip(' '), 'url' : base_url+tag.get('href') })\n",
      "\n",
      "# Concatenate the DataSeries, and transpose it\n",
      "city_info = pd.concat(list(map(make_city_info, valid_tags)), axis=1).T"
     ],
     "language": "python",
     "metadata": {},
     "outputs": [],
     "prompt_number": 17
    },
    {
     "cell_type": "code",
     "collapsed": false,
     "input": [
      "# Let's take a look\n",
      "city_info.head()"
     ],
     "language": "python",
     "metadata": {},
     "outputs": [
      {
       "html": [
        "<div style=\"max-height:1000px;max-width:1500px;overflow:auto;\">\n",
        "<table border=\"1\" class=\"dataframe\">\n",
        "  <thead>\n",
        "    <tr style=\"text-align: right;\">\n",
        "      <th></th>\n",
        "      <th>name</th>\n",
        "      <th>url</th>\n",
        "    </tr>\n",
        "  </thead>\n",
        "  <tbody>\n",
        "    <tr>\n",
        "      <th>0</th>\n",
        "      <td>     New York</td>\n",
        "      <td> http://www.biggestuscities.com/city/new-york-n...</td>\n",
        "    </tr>\n",
        "    <tr>\n",
        "      <th>1</th>\n",
        "      <td>  Los Angeles</td>\n",
        "      <td> http://www.biggestuscities.com/city/los-angele...</td>\n",
        "    </tr>\n",
        "    <tr>\n",
        "      <th>2</th>\n",
        "      <td>      Chicago</td>\n",
        "      <td> http://www.biggestuscities.com/city/chicago-il...</td>\n",
        "    </tr>\n",
        "    <tr>\n",
        "      <th>3</th>\n",
        "      <td>      Houston</td>\n",
        "      <td> http://www.biggestuscities.com/city/houston-texas</td>\n",
        "    </tr>\n",
        "    <tr>\n",
        "      <th>4</th>\n",
        "      <td> Philadelphia</td>\n",
        "      <td> http://www.biggestuscities.com/city/philadelph...</td>\n",
        "    </tr>\n",
        "  </tbody>\n",
        "</table>\n",
        "</div>"
       ],
       "metadata": {},
       "output_type": "pyout",
       "prompt_number": 18,
       "text": [
        "           name                                                url\n",
        "0      New York  http://www.biggestuscities.com/city/new-york-n...\n",
        "1   Los Angeles  http://www.biggestuscities.com/city/los-angele...\n",
        "2       Chicago  http://www.biggestuscities.com/city/chicago-il...\n",
        "3       Houston  http://www.biggestuscities.com/city/houston-texas\n",
        "4  Philadelphia  http://www.biggestuscities.com/city/philadelph..."
       ]
      }
     ],
     "prompt_number": 18
    },
    {
     "cell_type": "markdown",
     "metadata": {},
     "source": [
      "Now that we have the url for each city's historical population, we can grab that webpage, parse the HTML again using *BeautifulSoup*. This time the infomation is in an HTML table. You can follow the code below easily with the extra bit of help from the comment. "
     ]
    },
    {
     "cell_type": "code",
     "collapsed": false,
     "input": [
      "def extract_annual_population(url):\n",
      "    html = urlopen(url).read()\n",
      "    soup = BeautifulSoup(html, \"lxml\")\n",
      "    \n",
      "    # The table of interest is the last table \n",
      "    table = soup.findAll(\"table\")[-1] \n",
      "    rows = table.findAll('tr')[1:]\n",
      "    r = {}\n",
      "    for i, tr in enumerate(rows):\n",
      "        cols = tr.findAll('td')\n",
      "        \n",
      "        # Extract the year (1st column) and population (2nd column)\n",
      "        # Notice you cannot use str.strip to remove comma\n",
      "        r[int(cols[0].string)] = int(cols[1].string.replace(',', ''))\n",
      "        \n",
      "        # Finally, convert dict r into a pandas.Series\n",
      "    return pd.Series(r)"
     ],
     "language": "python",
     "metadata": {},
     "outputs": [],
     "prompt_number": 19
    },
    {
     "cell_type": "code",
     "collapsed": false,
     "input": [
      "# Extract the annual population\n",
      "# Note this could take a little while\n",
      "annual_population = city_info[\"url\"].apply(extract_annual_population)"
     ],
     "language": "python",
     "metadata": {},
     "outputs": [],
     "prompt_number": 20
    },
    {
     "cell_type": "code",
     "collapsed": false,
     "input": [
      "# Merge city_info and annual_population, based on index\n",
      "city_info = pd.merge(city_info, annual_population, left_index=True, right_index=True, suffixes=['',''])"
     ],
     "language": "python",
     "metadata": {},
     "outputs": [],
     "prompt_number": 21
    },
    {
     "cell_type": "markdown",
     "metadata": {},
     "source": [
      "Finally, we simply calculate the fractional growth rate given by the ratio of population in adjacent years. In case the data is incomplete for certain years (e.g. New York 1841 to 1849), we instead use\n",
      "\n",
      "<center>$g = \\left(\\dfrac{p(m)}{p(n)}\\right)^{\\frac{1}{m-n}}$</center>\n",
      "\n",
      "where $m$ and $n$ are the closest years for which the population are available."
     ]
    },
    {
     "cell_type": "code",
     "collapsed": false,
     "input": [
      "# Aggregate population growth rate\n",
      "def extract_growth_rate(i):    \n",
      "    year_span = city_info.columns[i] - city_info.columns[i-1]\n",
      "    return (city_info.ix[:, i].astype(float) / city_info.ix[:, i-1])**(1.0/year_span)\n",
      "    \n",
      "g = ravel([ extract_growth_rate(i) for i in range(3, city_info.shape[1]-1) ])\n",
      "g = g[~isnan(g)]\n",
      "mu, sigma = g.mean(), g.std()"
     ],
     "language": "python",
     "metadata": {},
     "outputs": [],
     "prompt_number": 22
    },
    {
     "cell_type": "markdown",
     "metadata": {},
     "source": [
      "We can visualize the distribution of $g$, and see that city population grows by 1.4%$\\pm$7.2% each year. "
     ]
    },
    {
     "cell_type": "code",
     "collapsed": false,
     "input": [
      "fig, ax = subplots(1, 1)\n",
      "\n",
      "ax.set(xlim=(0.8, 1.2), \n",
      "       xlabel=r\"$g$\", ylabel=\"r$\\mathrm{p.d.f}(g)$\", \n",
      "       title=r\"p.d.f. of $g$, mean=%4.3f, std=%4.3f\" % (mu, sigma))\n",
      "m, bins, patches = hist(g, bins=arange(0, 2, 0.005), normed=1)\n",
      "smoothed_kde = stats.kde.gaussian_kde(g)\n",
      "\n",
      "ax.plot(bins, smoothed_kde(bins), \"r-\")\n",
      "ax.grid()"
     ],
     "language": "python",
     "metadata": {},
     "outputs": [
      {
       "metadata": {},
       "output_type": "display_data",
       "png": "[encoded data removed]",
       "text": [
        "<matplotlib.figure.Figure at 0x7fab24c49fd0>"
       ]
      }
     ],
     "prompt_number": 27
    },
    {
     "cell_type": "markdown",
     "metadata": {},
     "source": [
      "Now that we have $g$, we set up the simulation initial condition, which says all cities start with the same population."
     ]
    },
    {
     "cell_type": "code",
     "collapsed": false,
     "input": [
      "num_year = 2500\n",
      "num_city = p.shape[0]\n",
      "p_sum = p.sum()\n",
      "p0 = ones(num_city) * p_sum / mu**(num_year) / num_city"
     ],
     "language": "python",
     "metadata": {},
     "outputs": [],
     "prompt_number": 28
    },
    {
     "cell_type": "markdown",
     "metadata": {},
     "source": [
      "Then we randomly generate the growth rate $g$ per year per city, and store the result in a 2D matrix. Then we take the product along the year axis, which multiplied by the initial population yields the simulated population today. "
     ]
    },
    {
     "cell_type": "code",
     "collapsed": false,
     "input": [
      "# Generate the growth rate\n",
      "g_sim = smoothed_kde.resample(num_year * num_city).reshape((num_year, num_city))"
     ],
     "language": "python",
     "metadata": {},
     "outputs": [],
     "prompt_number": 29
    },
    {
     "cell_type": "code",
     "collapsed": false,
     "input": [
      "fig, ax = subplots(1, 1)\n",
      "p_sim = p0 * g_sim.prod(axis=0)\n",
      "mybins = arange(2, 16, 0.2)\n",
      "ax.set(xlabel=r'$\\ln p$', ylabel=r'$\\mathrm{pdf}(\\ln p)$', xlim=(0, 16))\n",
      "ax.hist(log(p.values), bins=mybins, color='r', normed=1, label='Data from Census')\n",
      "ax.hist(log(p_sim), bins=mybins, color='b', normed=1, label='Monte-Carlo Sim.', alpha=0.5)\n",
      "ax.legend()\n",
      "ax.grid()"
     ],
     "language": "python",
     "metadata": {},
     "outputs": [
      {
       "metadata": {},
       "output_type": "display_data",
       "png": "[encoded data removed]",
       "text": [
        "<matplotlib.figure.Figure at 0x7fab24b2d2b0>"
       ]
      }
     ],
     "prompt_number": 31
    },
    {
     "cell_type": "markdown",
     "metadata": {},
     "source": [
      "The actual and simulated population are shown above. We see that the right shoulder of these two distributions are well aligned, although their centers are slightly off. Also the actual census data appears to have a bigger width. Nevertheless, given the minimal assumptions of the random growth model, the agreement is not too bad! We can even use this random growth model to predict population 100 years from now, but I will leave that to you :)"
     ]
    },
    {
     "cell_type": "markdown",
     "metadata": {},
     "source": [
      "<a id='sec5'></a>\n",
      "## References"
     ]
    },
    {
     "cell_type": "markdown",
     "metadata": {},
     "source": [
      "<a name=\"census_data\"></a>\n",
      "1. Incorporated Places and Minor Civil Divisions Datasets: Subcounty Resident Population Estimates: April 1, 2010 to July 1, 2012, \n",
      "   https://www.census.gov/popest/data/cities/totals/2012/SUB-EST2012.html\n",
      "<a name=\"Eeckhout\"></a>\n",
      "2. Eeckhout, Jan. 2004. \"Gibrat's Law for (All) Cities.\" American Economic Review, 94(5): 1429-1451.\n",
      "<a name=\"Ref1\"></a>\n",
      "3. Web Scraping 101 with Python, Greg Reda, http://www.gregreda.com/2013/03/03/web-scraping-101-with-python/\n",
      "<a name=\"Ref2\"></a>\n",
      "4. HTML4 and HTML5 Tutorial, http://www.w3schools.com/html/DEFAULT.asp\n",
      "<a name=\"FirstCity\"></a>\n",
      "5. List of North American settlements by year of foundation, http://en.wikipedia.org/wiki/List_of_North_American_settlements_by_year_of_foundation\n"
     ]
    },
    {
     "cell_type": "code",
     "collapsed": false,
     "input": [
      "rcParams[\"axes.labelsize\"] = 12"
     ],
     "language": "python",
     "metadata": {},
     "outputs": [],
     "prompt_number": 5
    }
   ],
   "metadata": {}
  }
 ]
}